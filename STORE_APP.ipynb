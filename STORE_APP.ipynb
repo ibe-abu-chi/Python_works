{
  "cells": [
    {
      "cell_type": "markdown",
      "metadata": {
        "id": "view-in-github",
        "colab_type": "text"
      },
      "source": [
        "<a href=\"https://colab.research.google.com/github/ibe-abu-chi/Python_works/blob/main/STORE_APP.ipynb\" target=\"_parent\"><img src=\"https://colab.research.google.com/assets/colab-badge.svg\" alt=\"Open In Colab\"/></a>"
      ]
    },
    {
      "cell_type": "code",
      "execution_count": null,
      "metadata": {
        "colab": {
          "background_save": true
        },
        "id": "ZodQdFgUUAvu",
        "outputId": "e4b20145-366c-40f9-9e80-6400004f0580"
      },
      "outputs": [
        {
          "data": {
            "application/javascript": [
              "IPython.notebook.set_autosave_interval(30000)"
            ]
          },
          "metadata": {},
          "output_type": "display_data"
        },
        {
          "name": "stdout",
          "output_type": "stream",
          "text": [
            "Autosaving every 30 seconds\n"
          ]
        }
      ],
      "source": [
        "%autosave 30"
      ]
    },
    {
      "cell_type": "code",
      "execution_count": null,
      "metadata": {
        "colab": {
          "background_save": true
        },
        "id": "fc1502b5"
      },
      "outputs": [],
      "source": [
        "#creating list for product categories\n",
        "\n",
        "CATEGORY = ['BEVERAGES', 'PHONE_ACCESS','TOILETRIES','PASTRY', 'COSMETICS']\n",
        "\n",
        "#THIS IS PRODUCT LIST ACCORDING TO CATEGORY\n",
        "PRODUCT = {'BEVERAGES': ['Chocolate', 'Drinks', 'Coffee', 'Tea', 'SoyDrinks', 'Pop', 'Soda'], \n",
        "            'PHONE_ACCESS': ['CarryingCase', 'Earpieces', 'ScreenGuards'],\n",
        "            'TOILETRIES': ['ToiletPaper', 'BodySoap', 'Scrubs', 'BodyCrème', 'Shampoo'],\n",
        "            'PASTRY': ['Pizza', 'Burgers', 'Donuts', 'Muffins', 'Cheesecakes'], \n",
        "            'COSMETICS': ['Perfumes', 'Vanishes', 'NailPolish', 'Deodorants', 'FacialScrubs']\n",
        "           }\n",
        "\n",
        "\n",
        "\n",
        "\n",
        "# MAKING INVENTORY LIST\n",
        "Invent_BEV = {'Chocolate': 24, 'Drinks':24, 'Coffee':60, 'Tea':45, 'SoyDrinks': 24, 'Pop': 30, 'Soda': 50}\n",
        "Invent_PHO = {'CarryingCase':24, 'Earpieces':100, 'ScreenGuards':45}\n",
        "Invent_TOI = {'ToiletPaper': 48, 'BodySoap':76, 'Scrubs':36, 'BodyCrème':98, 'Shampoo':100}\n",
        "Invent_PAS = {'Pizza':35, 'Burgers':76, 'Donuts':150, 'Muffins':78, 'Cheesecakes': 36}\n",
        "Invent_COS = {'Perfumes':45, 'Vanishes':46, 'NailPolish':96, 'Deodorants':45, 'FacialScrubs':54}\n",
        "Invent_MIS = {}\n",
        "INVENTORY = ['Invent_BEV', 'Invent_PHO','Invent_TOI','Invent_PAS','Invent_COS']\n",
        "\n",
        "\n",
        "# MAKING SALES LIST\n",
        "SALES_BEV = {'Chocolate': 30, 'Drinks':20, 'Coffee':35, 'Tea':40, 'SoyDrinks': 20, 'Pop': 30, 'Soda': 20}\n",
        "SALES_PHO = {'CarryingCase':40, 'Earpieces':60, 'ScreenGuards':40}\n",
        "SALES_TOI = {'ToiletPaper': 8, 'BodySoap':70, 'Scrubs':30, 'BodyCrème':100, 'Shampoo':10}\n",
        "SALES_PAS = {'Pizza':35, 'Burgers':30, 'Donuts':10, 'Muffins':50, 'Cheesecakes':25}\n",
        "SALES_COS = {'Perfumes':55, 'Vanishes':26, 'NailPolish':21, 'Deodorants':45, 'FacialScrubs':50}\n"
      ]
    },
    {
      "cell_type": "code",
      "execution_count": null,
      "metadata": {
        "id": "HaJFapm5evQH"
      },
      "outputs": [],
      "source": [
        "for k , v in Invent_COS.items():\n",
        "    print(f\"{k} has {v} left\")"
      ]
    },
    {
      "cell_type": "code",
      "execution_count": null,
      "metadata": {
        "id": "2e717d49"
      },
      "outputs": [],
      "source": [
        "for k , v in PRODUCT.items():\n",
        "    print(f'the product category is {k}')\n",
        "    for x in v:\n",
        "             print(f'{x} belongs to {k} category')"
      ]
    },
    {
      "cell_type": "code",
      "execution_count": null,
      "metadata": {
        "colab": {
          "background_save": true
        },
        "id": "diftQmxrujYH",
        "outputId": "b06094a9-ab60-4368-d41b-46c6a965819e"
      },
      "outputs": [
        {
          "name": "stdout",
          "output_type": "stream",
          "text": [
            "we have None  in the inventory\n"
          ]
        }
      ],
      "source": [
        "def Check_Invent(X):\n",
        "    '''\n",
        "    this function will accepts a product name (X) and checks if its available in the inventory list\n",
        "    if found, it will return the current quantity in inventory\n",
        "\n",
        "    '''\n",
        "\n",
        "    if X in PRODUCT['PHONE_ACCESS']: #checking the phone accessory inventory\n",
        "        return Invent_PHO[X] #returns the total quantity in the phone accessory inventory\n",
        "\n",
        "    elif X in PRODUCT['BEVERAGES']: #checking the beverages inventory\n",
        "        return Invent_BEV[X] #returns the total quantity in the  beverages inventory\n",
        "\n",
        "    elif X in PRODUCT['TOILETRIES']: #checking the toiletries inventory\n",
        "        return Invent_TOI[X] #returns the total quantity in the toiletries inventory\n",
        "\n",
        "    elif X in PRODUCT['PASTRY']: #checking the pastry inventory\n",
        "        return Invent_PAS[X] #returns the total quantity in the pastry inventory\n",
        "\n",
        "    elif X in PRODUCT['COSMETICS']: #checking the cosmetics inventory\n",
        "        return Invent_COS[X] #returns the total quantity in the cosmetics inventory \n",
        "\n",
        "Check_prod= input('product name\\n') #a syntax to accept input from a user\n",
        "\n",
        "Count = Check_Invent(Check_prod)\n",
        "print(f'we have {Count}  in the inventory')"
      ]
    },
    {
      "cell_type": "code",
      "execution_count": null,
      "metadata": {
        "id": "420e8de4"
      },
      "outputs": [],
      "source": [
        "for k, v in PRODUCT.items():\n",
        "    print(k, v)"
      ]
    },
    {
      "cell_type": "markdown",
      "metadata": {
        "id": "rpMXMGI67E0T"
      },
      "source": [
        "# Code to update inventory\n",
        "\n",
        "1. check if product is in any dictionary\n",
        "2. if found, reference the coresponding invntory dictionary and increment quantity by the new amout\n",
        "3. if not found, prompt user to chose a category to add the product update the corresponding inventory dictionay with product and inventory"
      ]
    },
    {
      "cell_type": "code",
      "execution_count": null,
      "metadata": {
        "id": "be06d5a9"
      },
      "outputs": [],
      "source": [
        "#this build will handle checking inventory as well as any new product that is not in the inventory and also update inventory\n",
        "\n",
        "def Invent_Update(x, y):\n",
        "    '''\n",
        "    this function will accept a product from the user  and check if its available in the inventory list\n",
        "    if found, it will return the current quantity in inventory, x being the product and y being the quantity. it will also update the inventory too as new quantity is added\n",
        "    '''\n",
        "    Old_Qty, New_Qty = 'xx','yy'\n",
        "\n",
        "    if x in PRODUCT['BEVERAGES']:\n",
        "        Old_Qty = Invent_BEV[x]\n",
        "        Invent_BEV[x] += y  \n",
        "        print(f'{x} WAS SUCCESSFULLY ADDED') \n",
        "        Old_Qty, New_Qty = Old_Qty, Invent_BEV[x]   \n",
        "    \n",
        "    if x in PRODUCT['PHONE_ACCESS']:\n",
        "        Old_Qty = Invent_PHO[x]\n",
        "        Invent_PHO[x] += y  \n",
        "        print(f'{x} PHONE ACCESSORY SUCCESSFULLY ADDED') \n",
        "        Old_Qty, New_Qty = Old_Qty, Invent_PHO[x]    \n",
        "    \n",
        "    if x in PRODUCT['PASTRY']:\n",
        "        Old_Qty = Invent_PAS[x]\n",
        "        Invent_PAS[x] += y  \n",
        "        print(f'{x} PASTRY SUCCESSFULLY ADDED') \n",
        "        Old_Qty, New_Qty = Old_Qty, Invent_PAS[x] \n",
        "\n",
        "    if x in PRODUCT['COSMETICS']:\n",
        "        Old_Qty = Invent_COS[x]\n",
        "        Invent_COS[x] += y  \n",
        "        print(f'{x} COSMETICS SUCCESSFULLY ADDED') \n",
        "        Old_Qty, New_Qty = Old_Qty, Invent_COS[x] \n",
        "    \n",
        "    if x in PRODUCT['TOILETRIES']:\n",
        "        Old_Qty = Invent_TOI[x]\n",
        "        Invent_TOI[x] += y  \n",
        "        print(f'{x} SUCCESSFULLY ADDED') \n",
        "        Old_Qty, New_Qty = Old_Qty, Invent_TOI[x]\n",
        "\n",
        "    if New_Qty != 'yy' and Old_Qty !='xx':\n",
        "        return Old_Qty, New_Qty\n",
        "    else:\n",
        "        return  [f'{x} NOT FOUND IN THE INVENTORY,\\n DO YOU WANT TO ADD AS NEWW PRODUCT?', '...']\n",
        "    \n",
        "New_Prod = input('Name of item\\n')\n",
        "Update_Qty = int(input('total quantity\\n'))\n",
        "\n",
        "Old_Qty, New_Qty= Invent_Update(New_Prod, Update_Qty)\n",
        "\n",
        "if New_Qty != '...':\n",
        "    print(f'{New_Prod} inventory updated from {Old_Qty} to  {New_Qty}')\n",
        "else:\n",
        "    print(f'{New_Prod} NOT IN INVENTORY, DO YOU WANT TO ADD IT AS A NEW PRODUCT?')\n"
      ]
    },
    {
      "cell_type": "code",
      "execution_count": null,
      "metadata": {
        "id": "tdHAeZsIJxvx"
      },
      "outputs": [],
      "source": [
        "#this build will handle checking inventory as well as any new product that is not in the inventory wheen items are sold\n",
        "\n",
        "def Sales_Update(x, y):\n",
        "    '''\n",
        "    this function will accept a product from the user  and check if its available in the inventory list\n",
        "    if found, it will return the current quantity in inventory after sales, x being the product and y being the quantity\n",
        "    '''\n",
        "    Old_Qty, New_Qty = 'xx','yy'\n",
        "\n",
        "    if x in PRODUCT['BEVERAGES']:\n",
        "        Old_Qty = Invent_BEV[x]\n",
        "        Invent_BEV[x] -= y  \n",
        "        print(f'{x} IN BEVERAGE INVENTORY UPDATED!') \n",
        "        Old_Qty, New_Qty = Old_Qty, Invent_BEV[x]   \n",
        "    \n",
        "    if x in PRODUCT['PHONE_ACCESS']:\n",
        "        Old_Qty = Invent_PHO[x]\n",
        "        Invent_PHO[x] -= y  \n",
        "        print(f'{x} IN PHONE ACCESSORY INVENTORY UPDATED!') \n",
        "        Old_Qty, New_Qty = Old_Qty, Invent_PHO[x]    \n",
        "    \n",
        "    if x in PRODUCT['PASTRY']:\n",
        "        Old_Qty = Invent_PAS[x]\n",
        "        Invent_PAS[x] -= y  \n",
        "        print(f'{x} IN PASTRY INVENTORY UPDATED!') \n",
        "        Old_Qty, New_Qty = Old_Qty, Invent_PAS[x] \n",
        "\n",
        "    if x in PRODUCT['COSMETICS']:\n",
        "        Old_Qty = Invent_COS[x]\n",
        "        Invent_COS[x] -= y  \n",
        "        print(f'{x} IN COSMETICS INVENTORY UPDATED!') \n",
        "        Old_Qty, New_Qty = Old_Qty, Invent_COS[x] \n",
        "    \n",
        "    if x in PRODUCT['TOILETRIES']:\n",
        "        Old_Qty = Invent_TOI[x]\n",
        "        Invent_TOI[x] -= y  \n",
        "        print(f'{x} IN TOILETRIES INVENTORY UPDATED!') \n",
        "        Old_Qty, New_Qty = Old_Qty, Invent_TOI[x]\n",
        "\n",
        "    if New_Qty != 'yy' and Old_Qty !='xx':\n",
        "        return Old_Qty, New_Qty\n",
        "    else:\n",
        "        return  [f'{x} NOT FOUND IN ANY INVENTORY,\\n DO YOU WANT TO ADD AS NEWW PRODUCT?', '...']\n",
        "    \n",
        "Prod = input('Name of item\\n')\n",
        "Update_Qty = int(input('total quantity bought\\n'))\n",
        "\n",
        "Old_Qty, New_Qty = Sales_Update(Prod, Update_Qty)\n",
        "\n",
        "if New_Qty != '...':\n",
        "    print(f'{Prod} inventory down from {Old_Qty} to  {New_Qty}')\n",
        "else:\n",
        "    print(f'{Prod} NOT IN INVENTORY, DO YOU WANT TO ADD IT AS A NEW PRODUCT?')"
      ]
    },
    {
      "cell_type": "code",
      "execution_count": null,
      "metadata": {
        "id": "5d5e1007"
      },
      "outputs": [],
      "source": [
        "def Sales_Calc(x, y): # WHERE X IS PRODUCT AND Y IS THE QUANTTITY OF THE PRODUCT\n",
        "    \n",
        "    if x in PRODUCT['BEVERAGES']:\n",
        "        P =  SALES_BEV[x]\n",
        "        Sales = P * y\n",
        "   \n",
        "    elif x in PRODUCT['PHONE_ACCESS']:\n",
        "        P =  SALES_PHO[x]\n",
        "        Sales = P * y\n",
        "\n",
        "    elif x in PRODUCT['TOILETRIES']:\n",
        "        P =  SALES_TOI[x]\n",
        "        Sales = P * y\n",
        "                \n",
        "    elif x in PRODUCT['PASTRY']:\n",
        "        P =  SALES_PAS[x]\n",
        "        Sales = P * y\n",
        "            \n",
        "    elif x in PRODUCT['COSMETICS']:\n",
        "        P =  SALES_COS[x]\n",
        "        Sales = P * y\n",
        "    return [P, Sales]        \n",
        "\n",
        "def Sales_Func():\n",
        "    \n",
        "    Sold_Item = input('write all items seperated by comma\\n')\n",
        "    itemQty = input('write items quantity seperated by comma\\n')\n",
        "    Sales_Dict = dict()\n",
        "    X = Sold_Item.split(',') \n",
        "    Y = itemQty.split(',')\n",
        "    Quantity = []\n",
        "    for qty in Y:\n",
        "        Quantity.append(int(qty))\n",
        "    #print(X)  \n",
        "    #print(Quantity)\n",
        "    for p , q in zip(X,Quantity ):\n",
        "        #print(p, q)\n",
        "        Total_Sales = Sales_Calc(p, q)\n",
        "        #print(Total_Sales)\n",
        "        unitPrice = Total_Sales[0]\n",
        "        T_Sale = Total_Sales[1]\n",
        "        Sales_Dict[p]= [p, q, unitPrice, T_Sale]\n",
        "    return Sales_Dict\n",
        "\n",
        "Sales_Func()"
      ]
    },
    {
      "cell_type": "code",
      "execution_count": null,
      "metadata": {
        "id": "35a0affe"
      },
      "outputs": [],
      "source": [
        "import pandas as pd\n",
        "\n",
        "sales = Sales_Func()\n",
        "\n",
        "salesList = list(sales.values())\n",
        "df = pd.DataFrame(salesList, columns = ['Item','Quantity','SellingPrice', 'TotalSale'])\n",
        "print(df)\n",
        "total = df['TotalSale'].sum()\n",
        "dfArr = df.values.tolist()\n",
        "dfArr.append(['Total','','', total])\n",
        "\n",
        "df = pd.DataFrame(dfArr,columns = ['Item','Quantity','SellingPrice', 'TotalSale'] )\n",
        "df"
      ]
    },
    {
      "cell_type": "code",
      "execution_count": null,
      "metadata": {
        "id": "b429479d"
      },
      "outputs": [],
      "source": [
        "df"
      ]
    },
    {
      "cell_type": "code",
      "execution_count": null,
      "metadata": {
        "id": "9c78f45a"
      },
      "outputs": [],
      "source": []
    },
    {
      "cell_type": "code",
      "execution_count": null,
      "metadata": {
        "id": "7aa9df28"
      },
      "outputs": [],
      "source": []
    }
  ],
  "metadata": {
    "colab": {
      "provenance": [],
      "authorship_tag": "ABX9TyOCampTu/A/KVt9YNhfra2x",
      "include_colab_link": true
    },
    "kernelspec": {
      "display_name": "Python 3",
      "name": "python3"
    },
    "language_info": {
      "name": "python"
    }
  },
  "nbformat": 4,
  "nbformat_minor": 0
}