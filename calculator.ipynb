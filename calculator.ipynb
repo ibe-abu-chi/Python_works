{
  "nbformat": 4,
  "nbformat_minor": 0,
  "metadata": {
    "colab": {
      "provenance": [],
      "authorship_tag": "ABX9TyMhYB9Xuamgn3WdxU19so6K",
      "include_colab_link": true
    },
    "kernelspec": {
      "name": "python3",
      "display_name": "Python 3"
    },
    "language_info": {
      "name": "python"
    }
  },
  "cells": [
    {
      "cell_type": "markdown",
      "metadata": {
        "id": "view-in-github",
        "colab_type": "text"
      },
      "source": [
        "<a href=\"https://colab.research.google.com/github/ibe-abu-chi/Python_works/blob/main/calculator.ipynb\" target=\"_parent\"><img src=\"https://colab.research.google.com/assets/colab-badge.svg\" alt=\"Open In Colab\"/></a>"
      ]
    },
    {
      "cell_type": "code",
      "execution_count": null,
      "metadata": {
        "id": "QBZhC4yaNYdc"
      },
      "outputs": [],
      "source": [
        "func = ['+', '-', '*', '/', '%']\n",
        "def calc(x, func, y):\n",
        "    x = int(input('Enter your first number '))\n",
        "    y = int(input('Enter your second number '))\n",
        "    func = input('use any of the following: +, -, *, /, %')\n",
        "    if func == '+':\n",
        "        res = x + y\n",
        "    elif func == '-':\n",
        "        res = x - y\n",
        "    elif func == '*':\n",
        "        res = x * y\n",
        "    elif func == '/':\n",
        "        res = x / y\n",
        "    elif func == '%':\n",
        "        res = x % y\n",
        "    else:\n",
        "        res = 'unidentified value'\n",
        "    return res\n"
      ]
    },
    {
      "cell_type": "code",
      "source": [
        "calc (x,  func,  y)\n",
        " "
      ],
      "metadata": {
        "colab": {
          "base_uri": "https://localhost:8080/"
        },
        "id": "AXCgDfLDNlYh",
        "outputId": "91fb6f21-e27b-4963-87ea-1177cb89dd5e"
      },
      "execution_count": null,
      "outputs": [
        {
          "name": "stdout",
          "output_type": "stream",
          "text": [
            "Enter your first number 9\n",
            "Enter your second number 8\n",
            "use any of the following: +, -, *, /, %/\n"
          ]
        },
        {
          "output_type": "execute_result",
          "data": {
            "text/plain": [
              "1.125"
            ]
          },
          "metadata": {},
          "execution_count": 19
        }
      ]
    }
  ]
}